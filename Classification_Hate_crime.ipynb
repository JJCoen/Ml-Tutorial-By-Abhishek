{
  "nbformat": 4,
  "nbformat_minor": 0,
  "metadata": {
    "colab": {
      "name": "Classification_Hate_crime.ipynb",
      "provenance": []
    },
    "kernelspec": {
      "name": "python3",
      "display_name": "Python 3"
    }
  },
  "cells": [
    {
      "cell_type": "code",
      "metadata": {
        "id": "ylfR-4QXpMAJ"
      },
      "source": [
        "import pandas as pd\r\n",
        "from sklearn.model_selection import train_test_split\r\n",
        "from sklearn.neighbors import KNeighborsClassifier\r\n",
        "from sklearn.metrics import accuracy_score"
      ],
      "execution_count": 31,
      "outputs": []
    },
    {
      "cell_type": "code",
      "metadata": {
        "id": "SFapk1-ZpmZZ"
      },
      "source": [
        "#Breaking down the data set into features and Labels\r\n",
        "data=pd.read_csv(\"data.csv\")\r\n",
        "data.fillna(data.mean(), inplace=True)"
      ],
      "execution_count": 22,
      "outputs": []
    },
    {
      "cell_type": "code",
      "metadata": {
        "colab": {
          "base_uri": "https://localhost:8080/"
        },
        "id": "neVsQtH7p0TF",
        "outputId": "a0ad1172-e29f-42ec-9b61-2ebbf34d65b9"
      },
      "source": [
        "Features=data.iloc[:,1:-1]\r\n",
        "print(Features.head())"
      ],
      "execution_count": 23,
      "outputs": [
        {
          "output_type": "stream",
          "text": [
            "   median_household_income  ...  avg_hatecrimes_per_100k_fbi\n",
            "0                    42278  ...                     1.806410\n",
            "1                    67629  ...                     1.656700\n",
            "2                    49254  ...                     3.413928\n",
            "3                    44922  ...                     0.869209\n",
            "4                    60487  ...                     2.397986\n",
            "\n",
            "[5 rows x 11 columns]\n"
          ],
          "name": "stdout"
        }
      ]
    },
    {
      "cell_type": "code",
      "metadata": {
        "colab": {
          "base_uri": "https://localhost:8080/"
        },
        "id": "1Kf8wuJ3p-6W",
        "outputId": "5169b31c-5363-4ddf-fc3e-f5be7f52c448"
      },
      "source": [
        "Label=data.iloc[:,-1]\r\n",
        "print(Label.head())"
      ],
      "execution_count": 24,
      "outputs": [
        {
          "output_type": "stream",
          "text": [
            "0    1\n",
            "1    1\n",
            "2    0\n",
            "3    1\n",
            "4    0\n",
            "Name: Trump_Victory, dtype: int64\n"
          ],
          "name": "stdout"
        }
      ]
    },
    {
      "cell_type": "code",
      "metadata": {
        "id": "Ng8Z9NuQqGdW"
      },
      "source": [
        "#Talking only values\r\n",
        "Features=Features.values\r\n",
        "Label=Label.values"
      ],
      "execution_count": 25,
      "outputs": []
    },
    {
      "cell_type": "code",
      "metadata": {
        "id": "vMI8K26iqgMl"
      },
      "source": [
        "#spliting the data \r\n",
        "X_train, X_test,Y_train,Y_test=train_test_split(Features,Label, test_size=0.30,shuffle=False)"
      ],
      "execution_count": 26,
      "outputs": []
    },
    {
      "cell_type": "code",
      "metadata": {
        "colab": {
          "base_uri": "https://localhost:8080/"
        },
        "id": "TFaSoOXlqx5W",
        "outputId": "bc519b27-b03b-42bc-95b4-7dcd6458cd37"
      },
      "source": [
        "#Checking length of training data \r\n",
        "print(len(X_train))\r\n",
        "print(len(Y_train))\r\n",
        "\r\n",
        "#Checking length of testing data\r\n",
        "print(len(X_test))\r\n",
        "print(len(Y_test))"
      ],
      "execution_count": 27,
      "outputs": [
        {
          "output_type": "stream",
          "text": [
            "35\n",
            "35\n",
            "16\n",
            "16\n"
          ],
          "name": "stdout"
        }
      ]
    },
    {
      "cell_type": "code",
      "metadata": {
        "colab": {
          "base_uri": "https://localhost:8080/"
        },
        "id": "HLvImeCBrA-l",
        "outputId": "b6cac5f3-9419-4c04-c51b-48a3f273a0d5"
      },
      "source": [
        "model=KNeighborsClassifier(n_neighbors=3)\r\n",
        "model.fit(X_train,Y_train)"
      ],
      "execution_count": 39,
      "outputs": [
        {
          "output_type": "execute_result",
          "data": {
            "text/plain": [
              "KNeighborsClassifier(algorithm='auto', leaf_size=30, metric='minkowski',\n",
              "                     metric_params=None, n_jobs=None, n_neighbors=3, p=2,\n",
              "                     weights='uniform')"
            ]
          },
          "metadata": {
            "tags": []
          },
          "execution_count": 39
        }
      ]
    },
    {
      "cell_type": "code",
      "metadata": {
        "id": "_Op2lnU5rbGW"
      },
      "source": [
        "forcast=model.predict(X_test)"
      ],
      "execution_count": 40,
      "outputs": []
    },
    {
      "cell_type": "code",
      "metadata": {
        "colab": {
          "base_uri": "https://localhost:8080/"
        },
        "id": "u02pBh1hsR32",
        "outputId": "2c5cf7de-d297-4608-c7c7-b631490ee312"
      },
      "source": [
        "results=100*accuracy_score(Y_test,forcast)\r\n",
        "print(results)"
      ],
      "execution_count": 41,
      "outputs": [
        {
          "output_type": "stream",
          "text": [
            "75.0\n"
          ],
          "name": "stdout"
        }
      ]
    },
    {
      "cell_type": "code",
      "metadata": {
        "id": "Wlm4QQr5uBrm"
      },
      "source": [
        ""
      ],
      "execution_count": null,
      "outputs": []
    }
  ]
}