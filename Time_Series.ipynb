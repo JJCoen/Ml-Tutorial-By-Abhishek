{
  "nbformat": 4,
  "nbformat_minor": 0,
  "metadata": {
    "colab": {
      "name": "Time_Series.ipynb",
      "provenance": []
    },
    "kernelspec": {
      "name": "python3",
      "display_name": "Python 3"
    }
  },
  "cells": [
    {
      "cell_type": "code",
      "metadata": {
        "id": "E7ewpo2CUGZj"
      },
      "source": [
        "import pandas as pd"
      ],
      "execution_count": 79,
      "outputs": []
    },
    {
      "cell_type": "code",
      "metadata": {
        "id": "glmXIN2DUJ3d",
        "colab": {
          "base_uri": "https://localhost:8080/"
        },
        "outputId": "97c49b60-b8df-46fa-e1df-8397655ea79d"
      },
      "source": [
        "data=pd.read_csv(\"Time_Series.csv\")\r\n",
        "\r\n",
        "print(len(data))\r\n",
        "#print(data)"
      ],
      "execution_count": 156,
      "outputs": [
        {
          "output_type": "stream",
          "text": [
            "18\n"
          ],
          "name": "stdout"
        }
      ]
    },
    {
      "cell_type": "code",
      "metadata": {
        "colab": {
          "base_uri": "https://localhost:8080/"
        },
        "id": "mB7nMaxaVOB4",
        "outputId": "c234bb5d-36a3-4ea2-8bb9-d61620462288"
      },
      "source": [
        "print(data.head())\r\n"
      ],
      "execution_count": 157,
      "outputs": [
        {
          "output_type": "stream",
          "text": [
            "   Year   Return\n",
            "0   1959    3500\n",
            "1   1960    4500\n",
            "2   1961    3400\n",
            "3   1962    4200\n",
            "4   1963    6200\n"
          ],
          "name": "stdout"
        }
      ]
    },
    {
      "cell_type": "code",
      "metadata": {
        "colab": {
          "base_uri": "https://localhost:8080/"
        },
        "id": "dALz_ByqKfTA",
        "outputId": "539bbd34-b633-44d8-9838-15fe7ff995e5"
      },
      "source": [
        "Return1=list(data['Return'])\r\n",
        "print(Return1)\r\n",
        "Return1.pop(0)\r\n",
        "print(Return1)"
      ],
      "execution_count": 159,
      "outputs": [
        {
          "output_type": "stream",
          "text": [
            "[3500, 4500, 3400, 4200, 6200, 7400, 4500, 3400, 4200, 6200, 4500, 3400, 4200, 6200, 7400, 8200, 3000, 3500]\n",
            "[4500, 3400, 4200, 6200, 7400, 4500, 3400, 4200, 6200, 4500, 3400, 4200, 6200, 7400, 8200, 3000, 3500]\n"
          ],
          "name": "stdout"
        }
      ]
    },
    {
      "cell_type": "code",
      "metadata": {
        "id": "inhhPNrHVQP4"
      },
      "source": [
        "#convert into series \r\n",
        "data['y']=pd.Series((Return1))\r\n"
      ],
      "execution_count": 160,
      "outputs": []
    },
    {
      "cell_type": "code",
      "metadata": {
        "colab": {
          "base_uri": "https://localhost:8080/"
        },
        "id": "MycT1-6GV1e3",
        "outputId": "8ddd1f80-edf3-4f21-f451-202d4a04ff33"
      },
      "source": [
        "print(data)"
      ],
      "execution_count": 161,
      "outputs": [
        {
          "output_type": "stream",
          "text": [
            "    Year   Return       y\n",
            "0    1959    3500  4500.0\n",
            "1    1960    4500  3400.0\n",
            "2    1961    3400  4200.0\n",
            "3    1962    4200  6200.0\n",
            "4    1963    6200  7400.0\n",
            "5    1964    7400  4500.0\n",
            "6    1965    4500  3400.0\n",
            "7    1966    3400  4200.0\n",
            "8    1967    4200  6200.0\n",
            "9    1968    6200  4500.0\n",
            "10   1969    4500  3400.0\n",
            "11   1970    3400  4200.0\n",
            "12   1971    4200  6200.0\n",
            "13   1972    6200  7400.0\n",
            "14   1973    7400  8200.0\n",
            "15   1974    8200  3000.0\n",
            "16   1975    3000  3500.0\n",
            "17   1976    3500     NaN\n"
          ],
          "name": "stdout"
        }
      ]
    },
    {
      "cell_type": "code",
      "metadata": {
        "id": "Zjy_xQFoV6_X"
      },
      "source": [
        "data.drop(data.index[[-1]],inplace=True)\r\n"
      ],
      "execution_count": 162,
      "outputs": []
    },
    {
      "cell_type": "code",
      "metadata": {
        "colab": {
          "base_uri": "https://localhost:8080/"
        },
        "id": "EIov2Yw6Llf6",
        "outputId": "c7b7a1b4-1f36-47a9-e07f-1889184c78d0"
      },
      "source": [
        "print(data)"
      ],
      "execution_count": 163,
      "outputs": [
        {
          "output_type": "stream",
          "text": [
            "    Year   Return       y\n",
            "0    1959    3500  4500.0\n",
            "1    1960    4500  3400.0\n",
            "2    1961    3400  4200.0\n",
            "3    1962    4200  6200.0\n",
            "4    1963    6200  7400.0\n",
            "5    1964    7400  4500.0\n",
            "6    1965    4500  3400.0\n",
            "7    1966    3400  4200.0\n",
            "8    1967    4200  6200.0\n",
            "9    1968    6200  4500.0\n",
            "10   1969    4500  3400.0\n",
            "11   1970    3400  4200.0\n",
            "12   1971    4200  6200.0\n",
            "13   1972    6200  7400.0\n",
            "14   1973    7400  8200.0\n",
            "15   1974    8200  3000.0\n",
            "16   1975    3000  3500.0\n"
          ],
          "name": "stdout"
        }
      ]
    },
    {
      "cell_type": "code",
      "metadata": {
        "id": "PXCrl-poeYyk",
        "colab": {
          "base_uri": "https://localhost:8080/"
        },
        "outputId": "0ec8172d-5399-44b6-dd68-ea1d5d7c9a5e"
      },
      "source": [
        "X=data['Return']\r\n",
        "Y=data['y']\r\n",
        "print(\" The features look like\")\r\n",
        "print(X)\r\n",
        "print(\"#####################\")\r\n",
        "print(\"The output looks like\")\r\n",
        "print(Y)\r\n",
        "print(\"####################\")\r\n",
        "print(len(data))"
      ],
      "execution_count": 164,
      "outputs": [
        {
          "output_type": "stream",
          "text": [
            " The features look like\n",
            "0     3500\n",
            "1     4500\n",
            "2     3400\n",
            "3     4200\n",
            "4     6200\n",
            "5     7400\n",
            "6     4500\n",
            "7     3400\n",
            "8     4200\n",
            "9     6200\n",
            "10    4500\n",
            "11    3400\n",
            "12    4200\n",
            "13    6200\n",
            "14    7400\n",
            "15    8200\n",
            "16    3000\n",
            "Name: Return, dtype: int64\n",
            "#####################\n",
            "The output looks like\n",
            "0     4500.0\n",
            "1     3400.0\n",
            "2     4200.0\n",
            "3     6200.0\n",
            "4     7400.0\n",
            "5     4500.0\n",
            "6     3400.0\n",
            "7     4200.0\n",
            "8     6200.0\n",
            "9     4500.0\n",
            "10    3400.0\n",
            "11    4200.0\n",
            "12    6200.0\n",
            "13    7400.0\n",
            "14    8200.0\n",
            "15    3000.0\n",
            "16    3500.0\n",
            "Name: y, dtype: float64\n",
            "####################\n",
            "17\n"
          ],
          "name": "stdout"
        }
      ]
    },
    {
      "cell_type": "code",
      "metadata": {
        "id": "7Jcxl6Z2ewfV"
      },
      "source": [
        "from sklearn.linear_model import LinearRegression\r\n",
        "from sklearn.model_selection import train_test_split\r\n",
        "from matplotlib import pyplot as plt"
      ],
      "execution_count": 49,
      "outputs": []
    },
    {
      "cell_type": "code",
      "metadata": {
        "id": "vTSreJbke3Wl"
      },
      "source": [
        "#Creation of the model \r\n",
        "model=LinearRegression()\r\n",
        "#test_size=.30\r\n",
        "X_train,X_test,Y_train,Y_test=train_test_split(X,Y,test_size=.30,random_state=4,shuffle=False)"
      ],
      "execution_count": 168,
      "outputs": []
    },
    {
      "cell_type": "code",
      "metadata": {
        "id": "8DWxt6gWp24Q",
        "colab": {
          "base_uri": "https://localhost:8080/"
        },
        "outputId": "b95ffec5-dfd1-4b3a-ce99-fb4530e4444c"
      },
      "source": [
        "print(len(X_train))\r\n",
        "print(len(Y_train))\r\n",
        "print(len(X_test))\r\n",
        "print(len(Y_test))\r\n",
        "print(\"#######################\")\r\n",
        "print(X_test)"
      ],
      "execution_count": 174,
      "outputs": [
        {
          "output_type": "stream",
          "text": [
            "11\n",
            "11\n",
            "6\n",
            "6\n",
            "#######################\n",
            "11    3400\n",
            "12    4200\n",
            "13    6200\n",
            "14    7400\n",
            "15    8200\n",
            "16    3000\n",
            "Name: Return, dtype: int64\n"
          ],
          "name": "stdout"
        }
      ]
    },
    {
      "cell_type": "code",
      "metadata": {
        "id": "v46h1S-Iqjsp",
        "colab": {
          "base_uri": "https://localhost:8080/"
        },
        "outputId": "eee32cfb-86ba-47a1-b937-b3c82eb55c75"
      },
      "source": [
        "Train_time=data.iloc[0:11,0]\r\n",
        "print(len(Train_time))\r\n",
        "print(Train_time)\r\n",
        "print(\"#################################################\")\r\n",
        "Test_time=data.iloc[11:,0]\r\n",
        "print(len(Test_time))\r\n",
        "print(Test_time)\r\n",
        "print(\"###################################################\")"
      ],
      "execution_count": 175,
      "outputs": [
        {
          "output_type": "stream",
          "text": [
            "11\n",
            "0     1959\n",
            "1     1960\n",
            "2     1961\n",
            "3     1962\n",
            "4     1963\n",
            "5     1964\n",
            "6     1965\n",
            "7     1966\n",
            "8     1967\n",
            "9     1968\n",
            "10    1969\n",
            "Name: Year , dtype: int64\n",
            "#################################################\n",
            "6\n",
            "11    1970\n",
            "12    1971\n",
            "13    1972\n",
            "14    1973\n",
            "15    1974\n",
            "16    1975\n",
            "Name: Year , dtype: int64\n",
            "###################################################\n"
          ],
          "name": "stdout"
        }
      ]
    },
    {
      "cell_type": "code",
      "metadata": {
        "colab": {
          "base_uri": "https://localhost:8080/"
        },
        "id": "TU1ojiee3PPK",
        "outputId": "8517391c-ce92-4e94-cc31-04c0305f9de8"
      },
      "source": [
        "print(data.iloc[:,0])"
      ],
      "execution_count": 176,
      "outputs": [
        {
          "output_type": "stream",
          "text": [
            "0     1959\n",
            "1     1960\n",
            "2     1961\n",
            "3     1962\n",
            "4     1963\n",
            "5     1964\n",
            "6     1965\n",
            "7     1966\n",
            "8     1967\n",
            "9     1968\n",
            "10    1969\n",
            "11    1970\n",
            "12    1971\n",
            "13    1972\n",
            "14    1973\n",
            "15    1974\n",
            "16    1975\n",
            "Name: Year , dtype: int64\n"
          ],
          "name": "stdout"
        }
      ]
    },
    {
      "cell_type": "code",
      "metadata": {
        "colab": {
          "base_uri": "https://localhost:8080/",
          "height": 299
        },
        "id": "WTUgjuMQ4oPA",
        "outputId": "274a362e-ac67-4c69-ea9e-70f5c103f02f"
      },
      "source": [
        "#Ploting graph\r\n",
        "\r\n",
        "Time=data.iloc[:,0]\r\n",
        "Money=data.iloc[:,1]\r\n",
        "#plt.plot(Train_time,X_train)\r\n",
        "#plt.plot(Test_time,Y_train)\r\n",
        "plt.title(\" Annual Returns\")\r\n",
        "plt.xlabel(\"Time\")\r\n",
        "plt.ylabel(\"Money\")\r\n",
        "plt.plot(Time,Money)\r\n",
        "plt.show()"
      ],
      "execution_count": 178,
      "outputs": [
        {
          "output_type": "display_data",
          "data": {
            "image/png": "[encoded data removed]",
            "text/plain": [
              "<Figure size 432x288 with 1 Axes>"
            ]
          },
          "metadata": {
            "tags": []
          }
        }
      ]
    },
    {
      "cell_type": "code",
      "metadata": {
        "colab": {
          "base_uri": "https://localhost:8080/"
        },
        "id": "kD_UB_Hg5O_w",
        "outputId": "1da4d0d6-eaa4-4379-b641-7c0e4d3e2128"
      },
      "source": [
        "# Removing the index \r\n",
        "print(Y_test)\r\n",
        "Trainx=X_train.values\r\n",
        "Trainy=Y_train.values\r\n",
        "Testx=X_test.values\r\n",
        "Testy=Y_test.values\r\n",
        "print(Testy)"
      ],
      "execution_count": 179,
      "outputs": [
        {
          "output_type": "stream",
          "text": [
            "11    4200.0\n",
            "12    6200.0\n",
            "13    7400.0\n",
            "14    8200.0\n",
            "15    3000.0\n",
            "16    3500.0\n",
            "Name: y, dtype: float64\n",
            "[4200. 6200. 7400. 8200. 3000. 3500.]\n"
          ],
          "name": "stdout"
        }
      ]
    },
    {
      "cell_type": "code",
      "metadata": {
        "id": "Mhubenji7an5"
      },
      "source": [
        "#Transposing \r\n",
        "T_Trainx=Trainx.reshape(-1,1)\r\n",
        "T_Trainy=Trainy.reshape(-1,1)\r\n",
        "T_Testx=Testx.reshape(-1,1)\r\n",
        "T_Testy=Testy.reshape(-1,1)\r\n"
      ],
      "execution_count": 180,
      "outputs": []
    },
    {
      "cell_type": "code",
      "metadata": {
        "colab": {
          "base_uri": "https://localhost:8080/"
        },
        "id": "YZXzZO1TA8jU",
        "outputId": "b76059f2-367e-4343-c47f-5eb8224da06f"
      },
      "source": [
        "\r\n",
        "#checling()\r\n",
        "print(T_Trainx.shape)\r\n",
        "print(T_Trainy.shape)\r\n",
        "print(T_Testx.shape)\r\n",
        "print(T_Testy.shape)"
      ],
      "execution_count": 181,
      "outputs": [
        {
          "output_type": "stream",
          "text": [
            "(11, 1)\n",
            "(11, 1)\n",
            "(6, 1)\n",
            "(6, 1)\n"
          ],
          "name": "stdout"
        }
      ]
    },
    {
      "cell_type": "code",
      "metadata": {
        "colab": {
          "base_uri": "https://localhost:8080/"
        },
        "id": "gkMJ6OdpBMnz",
        "outputId": "839ce65e-b5e9-4ce4-afb2-ec663d4867ba"
      },
      "source": [
        "#Checking the data \r\n",
        "print(T_Trainx)\r\n",
        "print(T_Trainy)\r\n",
        "print(T_Testx)\r\n",
        "print(T_Testy)"
      ],
      "execution_count": 182,
      "outputs": [
        {
          "output_type": "stream",
          "text": [
            "[[3500]\n",
            " [4500]\n",
            " [3400]\n",
            " [4200]\n",
            " [6200]\n",
            " [7400]\n",
            " [4500]\n",
            " [3400]\n",
            " [4200]\n",
            " [6200]\n",
            " [4500]]\n",
            "[[4500.]\n",
            " [3400.]\n",
            " [4200.]\n",
            " [6200.]\n",
            " [7400.]\n",
            " [4500.]\n",
            " [3400.]\n",
            " [4200.]\n",
            " [6200.]\n",
            " [4500.]\n",
            " [3400.]]\n",
            "[[3400]\n",
            " [4200]\n",
            " [6200]\n",
            " [7400]\n",
            " [8200]\n",
            " [3000]]\n",
            "[[4200.]\n",
            " [6200.]\n",
            " [7400.]\n",
            " [8200.]\n",
            " [3000.]\n",
            " [3500.]]\n"
          ],
          "name": "stdout"
        }
      ]
    },
    {
      "cell_type": "code",
      "metadata": {
        "colab": {
          "base_uri": "https://localhost:8080/"
        },
        "id": "NsHwvBHR9vdP",
        "outputId": "0133192e-4afe-4abb-9069-bb37e27ad88e"
      },
      "source": [
        "model.fit(T_Trainx,T_Trainy)"
      ],
      "execution_count": 183,
      "outputs": [
        {
          "output_type": "execute_result",
          "data": {
            "text/plain": [
              "LinearRegression(copy_X=True, fit_intercept=True, n_jobs=None, normalize=False)"
            ]
          },
          "metadata": {
            "tags": []
          },
          "execution_count": 183
        }
      ]
    },
    {
      "cell_type": "code",
      "metadata": {
        "colab": {
          "base_uri": "https://localhost:8080/"
        },
        "id": "canIhGzf91ku",
        "outputId": "2c973ae7-3bad-4237-8c5f-caa9fff7557a"
      },
      "source": [
        "result=model.predict(T_Testx)\r\n",
        "print(result)\r\n",
        "print(T_Testy)"
      ],
      "execution_count": 185,
      "outputs": [
        {
          "output_type": "stream",
          "text": [
            "[[4408.01309122]\n",
            " [4594.96410473]\n",
            " [5062.34163851]\n",
            " [5342.76815878]\n",
            " [5529.7191723 ]\n",
            " [4314.53758446]]\n",
            "[[4200.]\n",
            " [6200.]\n",
            " [7400.]\n",
            " [8200.]\n",
            " [3000.]\n",
            " [3500.]]\n"
          ],
          "name": "stdout"
        }
      ]
    },
    {
      "cell_type": "code",
      "metadata": {
        "colab": {
          "base_uri": "https://localhost:8080/",
          "height": 299
        },
        "id": "b7VZFtgy-cIO",
        "outputId": "cee99c93-a1d9-41ed-ec8f-5ca34f34bf56"
      },
      "source": [
        "#focasting \r\n",
        "#Ploting graph\r\n",
        "\r\n",
        "#Time=data.iloc[:,0]\r\n",
        "#Money=data.iloc[:,1]\r\n",
        "#plt.plot(Train_time,X_train)\r\n",
        "plt.plot(Test_time,X_test, label='Actual Values with X')\r\n",
        "#plt.plot(Test_time,Y_test, label='Actual Values with Y Gold')\r\n",
        "#plt.plot(Time,Money)\r\n",
        "#plt.plot(Test_time,result,linewidth=2, markersize=12, marker='_',label='Forcast values')\r\n",
        "plt.plot(Test_time,result,label='Forcast values')\r\n",
        "plt.style.use('ggplot')\r\n",
        "plt.title(\" Annual Returns\")\r\n",
        "plt.xlabel(\"Time\")\r\n",
        "plt.ylabel(\"Money\")\r\n",
        "plt.legend()\r\n",
        "plt.show()\r\n"
      ],
      "execution_count": 191,
      "outputs": [
        {
          "output_type": "display_data",
          "data": {
            "image/png": "[encoded data removed]",
            "text/plain": [
              "<Figure size 432x288 with 1 Axes>"
            ]
          },
          "metadata": {
            "tags": []
          }
        }
      ]
    },
    {
      "cell_type": "code",
      "metadata": {
        "id": "KoZsAYyK-9Du"
      },
      "source": [
        "#Evaluation \r\n",
        "from sklearn.metrics import mean_squared_error\r\n",
        "from sklearn.metrics import r2_score\r\n",
        "RMS_result=mean_squared_error(T_Testy,result)\r\n",
        "R_2_result=r2_score(T_Testy,result)"
      ],
      "execution_count": 150,
      "outputs": []
    },
    {
      "cell_type": "code",
      "metadata": {
        "colab": {
          "base_uri": "https://localhost:8080/"
        },
        "id": "dPNfPjXpFzop",
        "outputId": "6c0a9e62-1166-450a-dbd2-a2e250e128f3"
      },
      "source": [
        "print(RMS_result)\r\n",
        "print(R_2_result)"
      ],
      "execution_count": 151,
      "outputs": [
        {
          "output_type": "stream",
          "text": [
            "2862264.2216197886\n",
            "-0.21856092689584172\n"
          ],
          "name": "stdout"
        }
      ]
    },
    {
      "cell_type": "code",
      "metadata": {
        "colab": {
          "base_uri": "https://localhost:8080/",
          "height": 299
        },
        "id": "2HnmKq5fF1V7",
        "outputId": "96a6d252-9031-40dc-b3e7-15aae3a98a9f"
      },
      "source": [
        "#focasting \r\n",
        "#Ploting graph\r\n",
        "\r\n",
        "Time=data.iloc[:,0]\r\n",
        "Money=data.iloc[:,1]\r\n",
        "#plt.plot(Train_time,X_train)\r\n",
        "plt.scatter(Test_time,X_test, label='Actual Values')\r\n",
        "#plt.plot(Time,Money)\r\n",
        "plt.plot(Test_time,result,linewidth=2, markersize=12, marker='_',label='forcast value')\r\n",
        "plt.style.use('ggplot')\r\n",
        "plt.title(\" Annual Returns\")\r\n",
        "plt.xlabel(\"Time\")\r\n",
        "plt.ylabel(\"Money\")\r\n",
        "plt.legend()\r\n",
        "plt.show()"
      ],
      "execution_count": 154,
      "outputs": [
        {
          "output_type": "display_data",
          "data": {
            "image/png": "[encoded data removed]",
            "text/plain": [
              "<Figure size 432x288 with 1 Axes>"
            ]
          },
          "metadata": {
            "tags": []
          }
        }
      ]
    },
    {
      "cell_type": "code",
      "metadata": {
        "id": "yswEOMeLGge8"
      },
      "source": [
        ""
      ],
      "execution_count": null,
      "outputs": []
    }
  ]
}