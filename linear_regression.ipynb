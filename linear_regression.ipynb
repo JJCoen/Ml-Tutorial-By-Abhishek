{
  "nbformat": 4,
  "nbformat_minor": 0,
  "metadata": {
    "colab": {
      "name": "linear_regression.ipynb",
      "provenance": []
    },
    "kernelspec": {
      "name": "python3",
      "display_name": "Python 3"
    }
  },
  "cells": [
    {
      "cell_type": "code",
      "metadata": {
        "id": "CfbVgy8k8X0x"
      },
      "source": [
        "#Importing the main classes\n",
        "import pandas as pd\n",
        "import sklearn"
      ],
      "execution_count": 1,
      "outputs": []
    },
    {
      "cell_type": "code",
      "metadata": {
        "id": "XXgOSdNZ8nUe"
      },
      "source": [
        "#calling the important classes \n",
        "from sklearn.linear_model import LinearRegression\n",
        "from sklearn.metrics import mean_squared_error\n",
        "from sklearn.model_selection import train_test_split"
      ],
      "execution_count": 12,
      "outputs": []
    },
    {
      "cell_type": "code",
      "metadata": {
        "id": "AlECCoSl8vxy"
      },
      "source": [
        "#reading the data\n",
        "data=pd.read_csv(\"data.csv\")"
      ],
      "execution_count": 13,
      "outputs": []
    },
    {
      "cell_type": "code",
      "metadata": {
        "colab": {
          "base_uri": "https://localhost:8080/"
        },
        "id": "xuiYdoEE9GFk",
        "outputId": "79762d27-66a3-4dce-8088-9d8f15cc4a12"
      },
      "source": [
        "print(data.head())"
      ],
      "execution_count": 37,
      "outputs": [
        {
          "output_type": "stream",
          "text": [
            "   Location  Area  Parking space  ...  Washrooms  Garden  Price\n",
            "0         1  1000              1  ...          2       1    6.5\n",
            "1         2  2000              0  ...          2       0    3.5\n",
            "2         3  2500              0  ...          2       0    3.0\n",
            "3         4  1000              1  ...          3       1    3.5\n",
            "4         5  2000              1  ...          3       1    8.0\n",
            "\n",
            "[5 rows x 11 columns]\n"
          ],
          "name": "stdout"
        }
      ]
    },
    {
      "cell_type": "code",
      "metadata": {
        "colab": {
          "base_uri": "https://localhost:8080/"
        },
        "id": "tCEWKteREe0i",
        "outputId": "11ddcd42-2065-4a5a-b19b-6bb3ea26103f"
      },
      "source": [
        "print(data.tail())"
      ],
      "execution_count": 38,
      "outputs": [
        {
          "output_type": "stream",
          "text": [
            "    Location  Area  Parking space  ...  Washrooms  Garden  Price\n",
            "13         5  2000              1  ...          2       0   5.00\n",
            "14         6  2500              1  ...          2       1   5.50\n",
            "15         7  1000              0  ...          3       1   3.50\n",
            "16         8  2000              1  ...          3       0   4.00\n",
            "17         9  1000              0  ...          3       0   3.25\n",
            "\n",
            "[5 rows x 11 columns]\n"
          ],
          "name": "stdout"
        }
      ]
    },
    {
      "cell_type": "code",
      "metadata": {
        "id": "goy81HCl9IFD"
      },
      "source": [
        "Features=data.iloc[:,:-1]"
      ],
      "execution_count": 15,
      "outputs": []
    },
    {
      "cell_type": "code",
      "metadata": {
        "colab": {
          "base_uri": "https://localhost:8080/"
        },
        "id": "q8sQc0i-9Uat",
        "outputId": "cd9e4781-59e7-46e0-9523-0331e7c83097"
      },
      "source": [
        "print(Features.head())"
      ],
      "execution_count": 16,
      "outputs": [
        {
          "output_type": "stream",
          "text": [
            "   Location  Area  Parking space  ...  Bedrooms  Washrooms  Garden\n",
            "0         1  1000              1  ...         2          2       1\n",
            "1         2  2000              0  ...         3          2       0\n",
            "2         3  2500              0  ...         2          2       0\n",
            "3         4  1000              1  ...         3          3       1\n",
            "4         5  2000              1  ...         3          3       1\n",
            "\n",
            "[5 rows x 10 columns]\n"
          ],
          "name": "stdout"
        }
      ]
    },
    {
      "cell_type": "code",
      "metadata": {
        "colab": {
          "base_uri": "https://localhost:8080/"
        },
        "id": "3ChV8nd9E6Uq",
        "outputId": "1e910edb-0445-451c-b4b9-92402fd8c1ea"
      },
      "source": [
        "print(Features.tail())"
      ],
      "execution_count": 39,
      "outputs": [
        {
          "output_type": "stream",
          "text": [
            "    Location  Area  Parking space  ...  Bedrooms  Washrooms  Garden\n",
            "13         5  2000              1  ...         3          2       0\n",
            "14         6  2500              1  ...         2          2       1\n",
            "15         7  1000              0  ...         3          3       1\n",
            "16         8  2000              1  ...         2          3       0\n",
            "17         9  1000              0  ...         3          3       0\n",
            "\n",
            "[5 rows x 10 columns]\n"
          ],
          "name": "stdout"
        }
      ]
    },
    {
      "cell_type": "code",
      "metadata": {
        "id": "H0k8OCJm9ZQm"
      },
      "source": [
        "Target=data.iloc[:,-1]"
      ],
      "execution_count": 17,
      "outputs": []
    },
    {
      "cell_type": "code",
      "metadata": {
        "colab": {
          "base_uri": "https://localhost:8080/"
        },
        "id": "0hpZGtot9hI0",
        "outputId": "5bd58f44-7bc4-4406-c5de-7ef5bfc3ab34"
      },
      "source": [
        "print(Target.head())"
      ],
      "execution_count": 18,
      "outputs": [
        {
          "output_type": "stream",
          "text": [
            "0    6.5\n",
            "1    3.5\n",
            "2    3.0\n",
            "3    3.5\n",
            "4    8.0\n",
            "Name: Price, dtype: float64\n"
          ],
          "name": "stdout"
        }
      ]
    },
    {
      "cell_type": "code",
      "metadata": {
        "colab": {
          "base_uri": "https://localhost:8080/"
        },
        "id": "RuMare8ZFUY5",
        "outputId": "28064b20-b212-42e3-cd94-553b22df9482"
      },
      "source": [
        "print(Target.tail())"
      ],
      "execution_count": 40,
      "outputs": [
        {
          "output_type": "stream",
          "text": [
            "13    5.00\n",
            "14    5.50\n",
            "15    3.50\n",
            "16    4.00\n",
            "17    3.25\n",
            "Name: Price, dtype: float64\n"
          ],
          "name": "stdout"
        }
      ]
    },
    {
      "cell_type": "code",
      "metadata": {
        "id": "mmvXanac9jZl"
      },
      "source": [
        "trainX,testX,trainY,testy=train_test_split(Features,Target,test_size=0.30,random_state=4,shuffle=False)"
      ],
      "execution_count": 21,
      "outputs": []
    },
    {
      "cell_type": "code",
      "metadata": {
        "colab": {
          "base_uri": "https://localhost:8080/"
        },
        "id": "CoKvIiPK-GaF",
        "outputId": "50343226-a429-49e6-d4e7-196bf9bfd34c"
      },
      "source": [
        "#checking the data distribution train data\n",
        "print(len(trainX))\n",
        "print(len(trainY))\n",
        "\n"
      ],
      "execution_count": 26,
      "outputs": [
        {
          "output_type": "stream",
          "text": [
            "12\n",
            "12\n"
          ],
          "name": "stdout"
        }
      ]
    },
    {
      "cell_type": "code",
      "metadata": {
        "colab": {
          "base_uri": "https://localhost:8080/"
        },
        "id": "pzdUHR4RGYOn",
        "outputId": "49faea7e-c7be-4f50-cf04-73956dd75015"
      },
      "source": [
        "#checking the data distribution train data\n",
        "print(len(testX))\n",
        "print(len(testy))\n"
      ],
      "execution_count": 41,
      "outputs": [
        {
          "output_type": "stream",
          "text": [
            "6\n",
            "6\n"
          ],
          "name": "stdout"
        }
      ]
    },
    {
      "cell_type": "code",
      "metadata": {
        "colab": {
          "base_uri": "https://localhost:8080/"
        },
        "id": "rKOWskV7-dV_",
        "outputId": "62b26dd0-e16b-4517-a295-d98652038da4"
      },
      "source": [
        "#Calling machine learning model \n",
        "model=LinearRegression()\n",
        "model.fit(trainX,trainY)"
      ],
      "execution_count": 28,
      "outputs": [
        {
          "output_type": "execute_result",
          "data": {
            "text/plain": [
              "LinearRegression(copy_X=True, fit_intercept=True, n_jobs=None, normalize=False)"
            ]
          },
          "metadata": {
            "tags": []
          },
          "execution_count": 28
        }
      ]
    },
    {
      "cell_type": "code",
      "metadata": {
        "id": "WVdtjKyo-t62"
      },
      "source": [
        "result=model.predict(testX)"
      ],
      "execution_count": 30,
      "outputs": []
    },
    {
      "cell_type": "code",
      "metadata": {
        "colab": {
          "base_uri": "https://localhost:8080/"
        },
        "id": "XF8uni_L-5ik",
        "outputId": "ef0b89a7-306e-448b-cf6b-4159c3fb7db1"
      },
      "source": [
        "#Forcast results\n",
        "print(\"This is Forcast results {}\".format(result))\n",
        "#Gold data to compare\n",
        "print(\"This is Gold results {}\".format(list(testy)))"
      ],
      "execution_count": 56,
      "outputs": [
        {
          "output_type": "stream",
          "text": [
            "This is Forcast results [-1.03862277  5.96444749  0.71678957 12.2988547  -7.16314391  3.06001538]\n",
            "This is Gold results [3.5, 5.0, 5.5, 3.5, 4.0, 3.25]\n"
          ],
          "name": "stdout"
        }
      ]
    },
    {
      "cell_type": "code",
      "metadata": {
        "id": "plppqzVg-84R"
      },
      "source": [
        "#Error functions\n",
        "error=mean_squared_error(testy,result)"
      ],
      "execution_count": 42,
      "outputs": []
    },
    {
      "cell_type": "code",
      "metadata": {
        "colab": {
          "base_uri": "https://localhost:8080/"
        },
        "id": "9Lq3Kd5C_PzX",
        "outputId": "5a22c726-d46f-4bbd-ac1d-5fca21dce62a"
      },
      "source": [
        "print(\"This is the error {}\".format(error))"
      ],
      "execution_count": 59,
      "outputs": [
        {
          "output_type": "stream",
          "text": [
            "This is the error 41.08001295055739\n"
          ],
          "name": "stdout"
        }
      ]
    },
    {
      "cell_type": "code",
      "metadata": {
        "colab": {
          "base_uri": "https://localhost:8080/"
        },
        "id": "o4vKRPAYHVuh",
        "outputId": "e57dd0ad-dd56-4eaa-83c9-bf8790218668"
      },
      "source": [
        "from sklearn.metrics import r2_score\n",
        "result_r2=r2_score(testy,result)\n",
        "print(\"This is the r square {}\".format(result_r2))"
      ],
      "execution_count": 61,
      "outputs": [
        {
          "output_type": "stream",
          "text": [
            "This is the r square -57.4249073074594\n"
          ],
          "name": "stdout"
        }
      ]
    },
    {
      "cell_type": "code",
      "metadata": {
        "id": "xRUA49j5_ROn"
      },
      "source": [
        "import matplotlib.pyplot as plt"
      ],
      "execution_count": 45,
      "outputs": []
    },
    {
      "cell_type": "code",
      "metadata": {
        "colab": {
          "base_uri": "https://localhost:8080/",
          "height": 295
        },
        "id": "OgHTCBEYHqrR",
        "outputId": "c4b4d833-c97f-4b4d-db68-5264ba66eb57"
      },
      "source": [
        "time=[1,2,3,4,5,6]\n",
        "\n",
        "plt.plot(time,testy,label=\"Real\")\n",
        "plt.plot(time,result,label='forcast')\n",
        "plt.xlabel(\"Time\")\n",
        "plt.ylabel(\"price\")\n",
        "plt.title(\"Housing Finance\")\n",
        "plt.legend()\n",
        "plt.show()"
      ],
      "execution_count": 51,
      "outputs": [
        {
          "output_type": "display_data",
          "data": {
            "image/png": "[encoded data removed]",
            "text/plain": [
              "<Figure size 432x288 with 1 Axes>"
            ]
          },
          "metadata": {
            "tags": [],
            "needs_background": "light"
          }
        }
      ]
    },
    {
      "cell_type": "code",
      "metadata": {
        "colab": {
          "base_uri": "https://localhost:8080/",
          "height": 295
        },
        "id": "YcYJnS3FIJsC",
        "outputId": "6838dbc6-8c3e-4862-cc03-fc3c7c96f552"
      },
      "source": [
        "time=[1,2,3,4,5,6]\n",
        "\n",
        "plt.scatter(time,testy,label=\"Real\")\n",
        "plt.plot(time,result,label='forcast')\n",
        "plt.xlabel(\"Time\")\n",
        "plt.ylabel(\"price\")\n",
        "plt.title(\"Housing Finance\")\n",
        "plt.legend()\n",
        "plt.show()"
      ],
      "execution_count": 62,
      "outputs": [
        {
          "output_type": "display_data",
          "data": {
            "image/png": "[encoded data removed]",
            "text/plain": [
              "<Figure size 432x288 with 1 Axes>"
            ]
          },
          "metadata": {
            "tags": [],
            "needs_background": "light"
          }
        }
      ]
    },
    {
      "cell_type": "code",
      "metadata": {
        "id": "1S37ibdKKQlW"
      },
      "source": [
        ""
      ],
      "execution_count": null,
      "outputs": []
    }
  ]
}